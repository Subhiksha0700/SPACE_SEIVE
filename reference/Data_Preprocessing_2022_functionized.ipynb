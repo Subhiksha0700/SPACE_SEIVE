{
 "cells": [
  {
   "cell_type": "code",
   "execution_count": 27,
   "id": "9e2a5bef-00a8-4e19-9bb2-708b0d8a29cc",
   "metadata": {},
   "outputs": [],
   "source": [
    "import pandas as pd\n",
    "\n",
    "train = pd.read_csv('/Users/subhiksha/Documents/Sem 2/AML/Project/spark-2022-stream-1/labels/train.csv')\n",
    "test = pd.read_csv('/Users/subhiksha/Documents/Sem 2/AML/Project/spark-2022-stream-1/labels/sample_submission.csv')\n",
    "val = pd.read_csv('/Users/subhiksha/Documents/Sem 2/AML/Project/spark-2022-stream-1/labels/val.csv')"
   ]
  },
  {
   "cell_type": "code",
   "execution_count": 28,
   "id": "273f3bef-cb1c-4d97-9ec8-3ad17dd197e8",
   "metadata": {},
   "outputs": [],
   "source": [
    "def filter_train_val(data,flag):\n",
    "    new_data = data[data['class']=='debris']\n",
    "    list = data['class'].value_counts().index.tolist()\n",
    "    list.remove('debris')\n",
    "    \n",
    "    class_df = pd.DataFrame()\n",
    "    for class_name in list:\n",
    "        if flag == 'train':\n",
    "            Class = data[data['class'] == class_name].head(600)\n",
    "        else:\n",
    "            Class = data[data['class'] == class_name].head(200)\n",
    "        class_df = pd.concat([class_df, Class])\n",
    "    \n",
    "    class_df = class_df.sample(frac=1, random_state=42)\n",
    "    class_df.reset_index(drop=True, inplace=True)\n",
    "    \n",
    "    Filtered_data = pd.concat([new_data, class_df])\n",
    "    Filtered_data = Filtered_data.sample(frac=1, random_state=42)\n",
    "    Filtered_data.reset_index(drop=True, inplace=True)\n",
    "    return Filtered_data\n",
    "\n",
    "\n",
    "Filtered_train  = filter_train_val(train,'train')\n",
    "Filtered_val = filter_train_val(val,'val')"
   ]
  },
  {
   "cell_type": "code",
   "execution_count": 30,
   "id": "dbbf61a5-2866-4968-8ab9-e8d883e3a6e4",
   "metadata": {},
   "outputs": [],
   "source": [
    "Filtered_train['filename'] = Filtered_train['filename'].str[:-4]\n",
    "Filtered_train['filename'] = Filtered_train['filename'] + '_2022.jpg'\n",
    "\n",
    "\n",
    "Filtered_val['filename'] = Filtered_val['filename'].str[:-4]\n",
    "Filtered_val['filename'] = Filtered_val['filename'] + '_2022.jpg'\n"
   ]
  },
  {
   "cell_type": "code",
   "execution_count": 31,
   "id": "1784886e-f686-44ee-9025-525c8d60d422",
   "metadata": {},
   "outputs": [],
   "source": [
    "category_to_zero = 'debris'\n",
    "Filtered_train['class'] = Filtered_train['class'].apply(lambda x: 0 if x == category_to_zero else 1)\n",
    "Filtered_val['class'] = Filtered_val['class'].apply(lambda x: 0 if x == category_to_zero else 1)"
   ]
  },
  {
   "cell_type": "code",
   "execution_count": 36,
   "id": "d123e2d3-5ab8-4f11-bf16-494e610eed06",
   "metadata": {},
   "outputs": [],
   "source": [
    "import os\n",
    "import shutil\n",
    "\n",
    "def image_transfer(data,flag):\n",
    "    filenames_data_df = pd.DataFrame() \n",
    "    filenames_data_df['filename'] = data['filename']\n",
    "    \n",
    "    if (flag == 'train'):\n",
    "        folder_2022_data = \"/Users/subhiksha/Documents/Sem 2/AML/Project/spark-2022-stream-1/train\"\n",
    "        master_data_folder = \"/Users/subhiksha/Documents/Sem 2/AML/Project/master_data_1/Train\"\n",
    "    else:\n",
    "        folder_2022_data = \"/Users/subhiksha/Documents/Sem 2/AML/Project/spark-2022-stream-1/val\"\n",
    "        master_data_folder = \"/Users/subhiksha/Documents/Sem 2/AML/Project/master_data_1/Val\"\n",
    "    \n",
    "    for filename in filenames_data_df['filename']:    \n",
    "        finalName = filename\n",
    "        filename = filename[:-9]\n",
    "        filename = filename +'.jpg'\n",
    "        source_path = os.path.join(folder_2022_data, filename)\n",
    "        destination_path = os.path.join(master_data_folder, finalName)\n",
    "        if os.path.exists(source_path):\n",
    "            shutil.copy(source_path, destination_path)\n",
    "    \n",
    "    print(\"Images transferred.\")\n",
    "\n",
    "\n",
    "image_transfer(Filtered_train,'train')\n",
    "image_transfer(Filtered_val,'val')"
   ]
  },
  {
   "cell_type": "code",
   "execution_count": 39,
   "id": "e2d16694-e7d4-4e2f-bc96-8e5feee51979",
   "metadata": {},
   "outputs": [],
   "source": [
    "import numpy as np \n",
    "\n",
    "Filtered_train['usage'] = 'train'\n",
    "Filtered_val['usage'] = 'val'\n",
    "test['usage'] = 'test'\n",
    "\n",
    "Filtered_train['year'] = 2022\n",
    "Filtered_val['year'] = 2022\n",
    "test['year'] = 2022\n",
    "\n",
    "Filtered_train['illumination'] = np.nan\n",
    "Filtered_val['illumination'] = np.nan\n",
    "test['illumination'] = np.nan\n",
    "test['bbox'] = np.nan\n",
    "test['class'] = np.nan\n",
    "\n",
    "# Define the desired order of column names\n",
    "desired_order = ['illumination', 'filename', 'bbox', 'year','usage','class']\n",
    "\n",
    "# Reorder the columns of the DataFrame\n",
    "Filtered_train = Filtered_train[desired_order]\n",
    "Filtered_val = Filtered_val[desired_order]\n",
    "test = test[desired_order]\n",
    "\n",
    "\n",
    "data_2022 = pd.concat([Filtered_train, Filtered_val, test], ignore_index=True)"
   ]
  }
 ],
 "metadata": {
  "kernelspec": {
   "display_name": "Python 3 (ipykernel)",
   "language": "python",
   "name": "python3"
  },
  "language_info": {
   "codemirror_mode": {
    "name": "ipython",
    "version": 3
   },
   "file_extension": ".py",
   "mimetype": "text/x-python",
   "name": "python",
   "nbconvert_exporter": "python",
   "pygments_lexer": "ipython3",
   "version": "3.9.6"
  }
 },
 "nbformat": 4,
 "nbformat_minor": 5
}
