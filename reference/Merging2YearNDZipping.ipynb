{
 "cells": [
  {
   "cell_type": "code",
   "execution_count": 3,
   "id": "7b82ea15-1bea-4847-a30e-e34cb236ea9f",
   "metadata": {},
   "outputs": [],
   "source": [
    "import pandas as pd\n",
    "\n",
    "# Load the two CSV files into DataFrames\n",
    "df1 = pd.read_csv('data_2021.csv')\n",
    "df2 = pd.read_csv('data_2022.csv')\n",
    "\n",
    "# Concatenate the two DataFrames\n",
    "concatenated_df = pd.concat([df1, df2], ignore_index=True)\n",
    "\n",
    "# Save the concatenated DataFrame to a new CSV file\n",
    "concatenated_df.to_csv('/Users/nithish/Documents/Academics/Spring 24/AML/project/data/master_data/labels.csv', index=False)"
   ]
  },
  {
   "cell_type": "code",
   "execution_count": 4,
   "id": "2d01279f-3350-44c5-99e7-287c027d56ba",
   "metadata": {},
   "outputs": [],
   "source": [
    "import zipfile\n",
    "import os\n",
    "\n",
    "def zip_folder(folder_path, zip_path):\n",
    "    \"\"\"\n",
    "    Zip the contents of a folder.\n",
    "    \n",
    "    Parameters:\n",
    "        folder_path (str): Path to the folder to be zipped.\n",
    "        zip_path (str): Path to the resulting zip file.\n",
    "    \"\"\"\n",
    "    with zipfile.ZipFile(zip_path, 'w', zipfile.ZIP_DEFLATED) as zipf:\n",
    "        for root, _, files in os.walk(folder_path):\n",
    "            for file in files:\n",
    "                file_path = os.path.join(root, file)\n",
    "                zipf.write(file_path, os.path.relpath(file_path, folder_path))\n",
    "\n",
    "# Example usage:\n",
    "folder_to_zip = '/Users/nithish/Documents/Academics/Spring 24/AML/project/data/master_data'\n",
    "zip_file_path = '/Users/nithish/Documents/Academics/Spring 24/AML/project/data/master_data.zip'\n",
    "\n",
    "zip_folder(folder_to_zip, zip_file_path)"
   ]
  },
  {
   "cell_type": "code",
   "execution_count": null,
   "id": "f6933495-1b04-4024-826e-f42d93ff7d01",
   "metadata": {},
   "outputs": [],
   "source": []
  }
 ],
 "metadata": {
  "kernelspec": {
   "display_name": "Python 3 (ipykernel)",
   "language": "python",
   "name": "python3"
  },
  "language_info": {
   "codemirror_mode": {
    "name": "ipython",
    "version": 3
   },
   "file_extension": ".py",
   "mimetype": "text/x-python",
   "name": "python",
   "nbconvert_exporter": "python",
   "pygments_lexer": "ipython3",
   "version": "3.9.6"
  }
 },
 "nbformat": 4,
 "nbformat_minor": 5
}
